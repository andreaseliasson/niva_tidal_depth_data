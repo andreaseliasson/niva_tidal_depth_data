{
 "cells": [
  {
   "cell_type": "code",
   "execution_count": null,
   "metadata": {},
   "outputs": [],
   "source": [
    "%matplotlib inline\n",
    "import pandas as pd\n",
    "import matplotlib.pyplot as plt\n",
    "import requests as requests\n",
    "from xml.etree import ElementTree"
   ]
  },
  {
   "cell_type": "code",
   "execution_count": null,
   "metadata": {},
   "outputs": [],
   "source": [
    "# Read in excel file\n",
    "depth_measurements_df = pd.read_excel('tidal_sample.xlsx',\n",
    "                                      usecols=['Date', 'Time', 'GPS Latitude', 'GPS Longitude', 'depth'],\n",
    "                                      na_values='<Null>')"
   ]
  },
  {
   "cell_type": "code",
   "execution_count": null,
   "metadata": {},
   "outputs": [],
   "source": [
    "# Data preparation"
   ]
  },
  {
   "cell_type": "code",
   "execution_count": null,
   "metadata": {},
   "outputs": [],
   "source": [
    "# Drop all rows where all column values are NA\n",
    "depth_measurements_df = depth_measurements_df.dropna(axis='index', how='all').reset_index(drop=True)"
   ]
  },
  {
   "cell_type": "code",
   "execution_count": null,
   "metadata": {},
   "outputs": [],
   "source": [
    "# Check data types\n",
    "depth_measurements_df.info()"
   ]
  },
  {
   "cell_type": "code",
   "execution_count": null,
   "metadata": {},
   "outputs": [],
   "source": [
    "# Replace commas with points and convert to floats\n",
    "for col in ['GPS Latitude', 'GPS Longitude', 'depth']:\n",
    "    depth_measurements_df[col] = depth_measurements_df[col].astype('str')\n",
    "    depth_measurements_df[col] = depth_measurements_df[col].str.replace(',', '.')\n",
    "    depth_measurements_df[col] = pd.to_numeric(depth_measurements_df[col], errors='coerce')"
   ]
  },
  {
   "cell_type": "code",
   "execution_count": null,
   "metadata": {},
   "outputs": [],
   "source": [
    "# Combine columns date and time and set as datetime index\n",
    "depth_measurements_df['Date_Time'] = pd.to_datetime(depth_measurements_df['Date'] + ' ' + depth_measurements_df['Time'])\n",
    "depth_measurements_df.set_index('Date_Time', inplace=True)"
   ]
  },
  {
   "cell_type": "code",
   "execution_count": null,
   "metadata": {},
   "outputs": [],
   "source": [
    "# Check for possible GPS outliers\n",
    "depth_measurements_df['GPS Latitude'].hist()"
   ]
  },
  {
   "cell_type": "code",
   "execution_count": null,
   "metadata": {},
   "outputs": [],
   "source": [
    "depth_measurements_df['GPS Longitude'].hist()"
   ]
  },
  {
   "cell_type": "code",
   "execution_count": null,
   "metadata": {},
   "outputs": [],
   "source": [
    "# Check how many observations that might have reversed lat/lon\n",
    "depth_measurements_df[(depth_measurements_df['GPS Latitude'] < 50) & (depth_measurements_df['GPS Longitude'] > 20)]"
   ]
  },
  {
   "cell_type": "code",
   "execution_count": null,
   "metadata": {},
   "outputs": [],
   "source": [
    "# It seem as if lat/lon has been reversed in one observation. Reverse them.\n",
    "reversed_lat_mask = depth_measurements_df['GPS Latitude'] < 50\n",
    "lon = depth_measurements_df[reversed_lat_mask]['GPS Latitude']\n",
    "\n",
    "reversed_lon_mask = depth_measurements_df['GPS Longitude'] > 20\n",
    "lat = depth_measurements_df[reversed_lon_mask]['GPS Longitude']\n",
    "\n",
    "depth_measurements_df.loc[reversed_lat_mask, 'GPS Latitude'] = lat\n",
    "depth_measurements_df.loc[reversed_lon_mask, 'GPS Longitude'] = lon"
   ]
  },
  {
   "cell_type": "code",
   "execution_count": null,
   "metadata": {},
   "outputs": [],
   "source": [
    "# Check distributions again\n",
    "depth_measurements_df['GPS Latitude'].hist()"
   ]
  },
  {
   "cell_type": "code",
   "execution_count": null,
   "metadata": {},
   "outputs": [],
   "source": [
    "depth_measurements_df['GPS Longitude'].hist()"
   ]
  },
  {
   "cell_type": "code",
   "execution_count": null,
   "metadata": {},
   "outputs": [],
   "source": [
    "'''\n",
    "Use the API from the Norwegian Mapping Authority to fetch the water levels with reference to chart datum.\n",
    "The dynamic parameters being passed in for each observation inlude lat, long, fromtime (time of observation),\n",
    "totime (time of observation + 1 hour). From the list of water levels returned from the API, we're adding the first (closest in time)\n",
    "water level value to a new column (water_level). In addtion we're adding the time of the water level in a new column (water_level_time).\n",
    "'''"
   ]
  },
  {
   "cell_type": "code",
   "execution_count": null,
   "metadata": {},
   "outputs": [],
   "source": [
    "def parse_xml(content):\n",
    "    \"\"\"Get the first water level value and its time.\n",
    "        \n",
    "        Keyword arguments:\n",
    "        content - xml content\n",
    "    \"\"\"\n",
    "    water_level = None\n",
    "    water_level_time = None\n",
    "    \n",
    "    try:\n",
    "        root = ElementTree.fromstring(content)\n",
    "        first_water_level = root.find('locationdata').find('data').find('waterlevel')\n",
    "        water_level = first_water_level.attrib['value']\n",
    "        water_level_time = first_water_level.attrib['time']\n",
    "    except:\n",
    "        pass\n",
    "    return water_level, water_level_time"
   ]
  },
  {
   "cell_type": "code",
   "execution_count": null,
   "metadata": {},
   "outputs": [],
   "source": [
    "def get_water_level(row):\n",
    "    \"\"\"Get the xml water levels using external api from the\n",
    "        Norwegian Mapping Authority and assign to new columns\n",
    "        \n",
    "        Keyword arguments:\n",
    "        content - pandas row\n",
    "    \"\"\"\n",
    "    \n",
    "    payload = {'tide_request': 'locationdata',\n",
    "               'lat': row['GPS Latitude'],\n",
    "               'lon': row['GPS Longitude'],\n",
    "               'fromtime': row.name,\n",
    "               'totime': row.name + pd.DateOffset(hours=1),\n",
    "               'datatype': 'obs',\n",
    "               'refcode': 'cd',\n",
    "               'interval': '10',\n",
    "               'lang': 'nn'}\n",
    "    water_response = requests.get('http://api.sehavniva.no/tideapi.php', params=payload)\n",
    "    \n",
    "    water_level = None;\n",
    "    water_level_time = None\n",
    "    if water_response.status_code == 200:\n",
    "        water_level, water_level_time = parse_xml(water_response.content)\n",
    "\n",
    "    row['water_level'] = water_level\n",
    "    row['water_level_time'] = water_level_time\n",
    "    return row"
   ]
  },
  {
   "cell_type": "code",
   "execution_count": null,
   "metadata": {},
   "outputs": [],
   "source": [
    "depth_measurements_df = depth_measurements_df.apply(get_water_level, axis=1)"
   ]
  },
  {
   "cell_type": "code",
   "execution_count": null,
   "metadata": {},
   "outputs": [],
   "source": [
    "depth_measurements_df.head()"
   ]
  },
  {
   "cell_type": "code",
   "execution_count": null,
   "metadata": {},
   "outputs": [],
   "source": [
    "depth_measurements_df['water_level'] = pd.to_numeric(depth_measurements_df['water_level'], errors='coerce')"
   ]
  },
  {
   "cell_type": "code",
   "execution_count": null,
   "metadata": {},
   "outputs": [],
   "source": [
    "# Calculate chart datum referenced sampling depth for each observation\n",
    "depth_measurements_df['chart_datum_adj_depth'] = depth_measurements_df['water_level'] - depth_measurements_df['depth']"
   ]
  },
  {
   "cell_type": "code",
   "execution_count": null,
   "metadata": {},
   "outputs": [],
   "source": [
    "depth_measurements_df.head()"
   ]
  },
  {
   "cell_type": "code",
   "execution_count": null,
   "metadata": {},
   "outputs": [],
   "source": [
    "# Export data to csv and excel files\n",
    "out_csv = 'cd_adjusted_depth_measurements.csv'\n",
    "depth_measurements_df.to_csv(out_csv, index=False)\n",
    "\n",
    "out_xlsx = 'cd_adjusted_depth_measurements.xlsx'\n",
    "depth_measurements_df.to_excel(out_xlsx, index=False)"
   ]
  }
 ],
 "metadata": {
  "kernelspec": {
   "display_name": "Python 3",
   "language": "python",
   "name": "python3"
  },
  "language_info": {
   "codemirror_mode": {
    "name": "ipython",
    "version": 3
   },
   "file_extension": ".py",
   "mimetype": "text/x-python",
   "name": "python",
   "nbconvert_exporter": "python",
   "pygments_lexer": "ipython3",
   "version": "3.8.3"
  }
 },
 "nbformat": 4,
 "nbformat_minor": 4
}
